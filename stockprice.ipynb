import pandas as pd
import numpy as np
from sklearn.model_selection import train_test_split
from sklearn.linear_model import LinearRegression
from sklearn.metrics import mean_squared_error
import matplotlib.pyplot as plt

data = pd.read_csv('stockprice.csv')
data['Date'] = pd.to_datetime(data['Date'])
data = data.sort_values('Date')

data['Year'] = data['Date'].dt.year
data['Month'] = data['Date'].dt.month
data['Day'] = data['Date'].dt.day

features = ['Year', 'Month', 'Day', 'Open', 'High', 'Low', 'Volume']
X = data[features]
y = data['Close'] 

X_train, X_test, y_train, y_test = train_test_split(X, y, test_size=0.2, random_state=42)

model = LinearRegression()
model.fit(X_train, y_train)

predictions = model.predict(X_test)

print(predictions)
